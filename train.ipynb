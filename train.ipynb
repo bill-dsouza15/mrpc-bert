{
  "nbformat": 4,
  "nbformat_minor": 0,
  "metadata": {
    "colab": {
      "provenance": [],
      "gpuType": "T4"
    },
    "kernelspec": {
      "name": "python3",
      "display_name": "Python 3"
    },
    "language_info": {
      "name": "python"
    },
    "accelerator": "GPU"
  },
  "cells": [
    {
      "cell_type": "markdown",
      "source": [
        "Fine-tuning BERT to solve the GLUE task - MRPC (Microsoft Research Paraphrase Corpus) for determining whether a pair of sentences are semantically equivalent.\n",
        "\n",
        "Trained using Google Colab"
      ],
      "metadata": {
        "id": "qan0wFhO_bun"
      }
    },
    {
      "cell_type": "markdown",
      "source": [
        "Install dependencies"
      ],
      "metadata": {
        "id": "Apd1GVp1AAGW"
      }
    },
    {
      "cell_type": "code",
      "execution_count": null,
      "metadata": {
        "id": "0nNA_iTs_YvG",
        "colab": {
          "base_uri": "https://localhost:8080/"
        },
        "outputId": "84f66fac-6e06-4786-f69a-86b0f30a6271"
      },
      "outputs": [
        {
          "output_type": "stream",
          "name": "stdout",
          "text": [
            "Requirement already satisfied: transformers in /usr/local/lib/python3.10/dist-packages (4.40.1)\n",
            "Requirement already satisfied: filelock in /usr/local/lib/python3.10/dist-packages (from transformers) (3.13.4)\n",
            "Requirement already satisfied: huggingface-hub<1.0,>=0.19.3 in /usr/local/lib/python3.10/dist-packages (from transformers) (0.22.2)\n",
            "Requirement already satisfied: numpy>=1.17 in /usr/local/lib/python3.10/dist-packages (from transformers) (1.25.2)\n",
            "Requirement already satisfied: packaging>=20.0 in /usr/local/lib/python3.10/dist-packages (from transformers) (24.0)\n",
            "Requirement already satisfied: pyyaml>=5.1 in /usr/local/lib/python3.10/dist-packages (from transformers) (6.0.1)\n",
            "Requirement already satisfied: regex!=2019.12.17 in /usr/local/lib/python3.10/dist-packages (from transformers) (2023.12.25)\n",
            "Requirement already satisfied: requests in /usr/local/lib/python3.10/dist-packages (from transformers) (2.31.0)\n",
            "Requirement already satisfied: tokenizers<0.20,>=0.19 in /usr/local/lib/python3.10/dist-packages (from transformers) (0.19.1)\n",
            "Requirement already satisfied: safetensors>=0.4.1 in /usr/local/lib/python3.10/dist-packages (from transformers) (0.4.3)\n",
            "Requirement already satisfied: tqdm>=4.27 in /usr/local/lib/python3.10/dist-packages (from transformers) (4.66.2)\n",
            "Requirement already satisfied: fsspec>=2023.5.0 in /usr/local/lib/python3.10/dist-packages (from huggingface-hub<1.0,>=0.19.3->transformers) (2023.6.0)\n",
            "Requirement already satisfied: typing-extensions>=3.7.4.3 in /usr/local/lib/python3.10/dist-packages (from huggingface-hub<1.0,>=0.19.3->transformers) (4.11.0)\n",
            "Requirement already satisfied: charset-normalizer<4,>=2 in /usr/local/lib/python3.10/dist-packages (from requests->transformers) (3.3.2)\n",
            "Requirement already satisfied: idna<4,>=2.5 in /usr/local/lib/python3.10/dist-packages (from requests->transformers) (3.7)\n",
            "Requirement already satisfied: urllib3<3,>=1.21.1 in /usr/local/lib/python3.10/dist-packages (from requests->transformers) (2.0.7)\n",
            "Requirement already satisfied: certifi>=2017.4.17 in /usr/local/lib/python3.10/dist-packages (from requests->transformers) (2024.2.2)\n"
          ]
        }
      ],
      "source": [
        "!pip install transformers"
      ]
    },
    {
      "cell_type": "code",
      "source": [
        "!pip install datasets"
      ],
      "metadata": {
        "id": "FP5PcERWzR8M",
        "colab": {
          "base_uri": "https://localhost:8080/"
        },
        "outputId": "d15f7d55-917c-4801-88d8-2c2906081772"
      },
      "execution_count": null,
      "outputs": [
        {
          "output_type": "stream",
          "name": "stdout",
          "text": [
            "Requirement already satisfied: datasets in /usr/local/lib/python3.10/dist-packages (2.19.0)\n",
            "Requirement already satisfied: filelock in /usr/local/lib/python3.10/dist-packages (from datasets) (3.13.4)\n",
            "Requirement already satisfied: numpy>=1.17 in /usr/local/lib/python3.10/dist-packages (from datasets) (1.25.2)\n",
            "Requirement already satisfied: pyarrow>=12.0.0 in /usr/local/lib/python3.10/dist-packages (from datasets) (14.0.2)\n",
            "Requirement already satisfied: pyarrow-hotfix in /usr/local/lib/python3.10/dist-packages (from datasets) (0.6)\n",
            "Requirement already satisfied: dill<0.3.9,>=0.3.0 in /usr/local/lib/python3.10/dist-packages (from datasets) (0.3.8)\n",
            "Requirement already satisfied: pandas in /usr/local/lib/python3.10/dist-packages (from datasets) (2.0.3)\n",
            "Requirement already satisfied: requests>=2.19.0 in /usr/local/lib/python3.10/dist-packages (from datasets) (2.31.0)\n",
            "Requirement already satisfied: tqdm>=4.62.1 in /usr/local/lib/python3.10/dist-packages (from datasets) (4.66.2)\n",
            "Requirement already satisfied: xxhash in /usr/local/lib/python3.10/dist-packages (from datasets) (3.4.1)\n",
            "Requirement already satisfied: multiprocess in /usr/local/lib/python3.10/dist-packages (from datasets) (0.70.16)\n",
            "Requirement already satisfied: fsspec[http]<=2024.3.1,>=2023.1.0 in /usr/local/lib/python3.10/dist-packages (from datasets) (2023.6.0)\n",
            "Requirement already satisfied: aiohttp in /usr/local/lib/python3.10/dist-packages (from datasets) (3.9.5)\n",
            "Requirement already satisfied: huggingface-hub>=0.21.2 in /usr/local/lib/python3.10/dist-packages (from datasets) (0.22.2)\n",
            "Requirement already satisfied: packaging in /usr/local/lib/python3.10/dist-packages (from datasets) (24.0)\n",
            "Requirement already satisfied: pyyaml>=5.1 in /usr/local/lib/python3.10/dist-packages (from datasets) (6.0.1)\n",
            "Requirement already satisfied: aiosignal>=1.1.2 in /usr/local/lib/python3.10/dist-packages (from aiohttp->datasets) (1.3.1)\n",
            "Requirement already satisfied: attrs>=17.3.0 in /usr/local/lib/python3.10/dist-packages (from aiohttp->datasets) (23.2.0)\n",
            "Requirement already satisfied: frozenlist>=1.1.1 in /usr/local/lib/python3.10/dist-packages (from aiohttp->datasets) (1.4.1)\n",
            "Requirement already satisfied: multidict<7.0,>=4.5 in /usr/local/lib/python3.10/dist-packages (from aiohttp->datasets) (6.0.5)\n",
            "Requirement already satisfied: yarl<2.0,>=1.0 in /usr/local/lib/python3.10/dist-packages (from aiohttp->datasets) (1.9.4)\n",
            "Requirement already satisfied: async-timeout<5.0,>=4.0 in /usr/local/lib/python3.10/dist-packages (from aiohttp->datasets) (4.0.3)\n",
            "Requirement already satisfied: typing-extensions>=3.7.4.3 in /usr/local/lib/python3.10/dist-packages (from huggingface-hub>=0.21.2->datasets) (4.11.0)\n",
            "Requirement already satisfied: charset-normalizer<4,>=2 in /usr/local/lib/python3.10/dist-packages (from requests>=2.19.0->datasets) (3.3.2)\n",
            "Requirement already satisfied: idna<4,>=2.5 in /usr/local/lib/python3.10/dist-packages (from requests>=2.19.0->datasets) (3.7)\n",
            "Requirement already satisfied: urllib3<3,>=1.21.1 in /usr/local/lib/python3.10/dist-packages (from requests>=2.19.0->datasets) (2.0.7)\n",
            "Requirement already satisfied: certifi>=2017.4.17 in /usr/local/lib/python3.10/dist-packages (from requests>=2.19.0->datasets) (2024.2.2)\n",
            "Requirement already satisfied: python-dateutil>=2.8.2 in /usr/local/lib/python3.10/dist-packages (from pandas->datasets) (2.8.2)\n",
            "Requirement already satisfied: pytz>=2020.1 in /usr/local/lib/python3.10/dist-packages (from pandas->datasets) (2023.4)\n",
            "Requirement already satisfied: tzdata>=2022.1 in /usr/local/lib/python3.10/dist-packages (from pandas->datasets) (2024.1)\n",
            "Requirement already satisfied: six>=1.5 in /usr/local/lib/python3.10/dist-packages (from python-dateutil>=2.8.2->pandas->datasets) (1.16.0)\n"
          ]
        }
      ]
    },
    {
      "cell_type": "code",
      "source": [
        "!pip list"
      ],
      "metadata": {
        "colab": {
          "base_uri": "https://localhost:8080/"
        },
        "id": "JO1BcUvciq3C",
        "outputId": "2a585bbe-95c0-436b-a9be-effcad0e7903"
      },
      "execution_count": null,
      "outputs": [
        {
          "output_type": "stream",
          "name": "stdout",
          "text": [
            "Package                          Version\n",
            "-------------------------------- ---------------------\n",
            "absl-py                          1.4.0\n",
            "aiohttp                          3.9.5\n",
            "aiosignal                        1.3.1\n",
            "alabaster                        0.7.16\n",
            "albumentations                   1.3.1\n",
            "altair                           4.2.2\n",
            "annotated-types                  0.6.0\n",
            "anyio                            3.7.1\n",
            "appdirs                          1.4.4\n",
            "argon2-cffi                      23.1.0\n",
            "argon2-cffi-bindings             21.2.0\n",
            "array_record                     0.5.1\n",
            "arviz                            0.15.1\n",
            "astropy                          5.3.4\n",
            "astunparse                       1.6.3\n",
            "async-timeout                    4.0.3\n",
            "atpublic                         4.1.0\n",
            "attrs                            23.2.0\n",
            "audioread                        3.0.1\n",
            "autograd                         1.6.2\n",
            "Babel                            2.14.0\n",
            "backcall                         0.2.0\n",
            "beautifulsoup4                   4.12.3\n",
            "bidict                           0.23.1\n",
            "bigframes                        1.3.0\n",
            "bleach                           6.1.0\n",
            "blinker                          1.4\n",
            "blis                             0.7.11\n",
            "blosc2                           2.0.0\n",
            "bokeh                            3.3.4\n",
            "bqplot                           0.12.43\n",
            "branca                           0.7.2\n",
            "build                            1.2.1\n",
            "CacheControl                     0.14.0\n",
            "cachetools                       5.3.3\n",
            "catalogue                        2.0.10\n",
            "certifi                          2024.2.2\n",
            "cffi                             1.16.0\n",
            "chardet                          5.2.0\n",
            "charset-normalizer               3.3.2\n",
            "chex                             0.1.86\n",
            "click                            8.1.7\n",
            "click-plugins                    1.1.1\n",
            "cligj                            0.7.2\n",
            "cloudpathlib                     0.16.0\n",
            "cloudpickle                      2.2.1\n",
            "cmake                            3.27.9\n",
            "cmdstanpy                        1.2.2\n",
            "colorcet                         3.1.0\n",
            "colorlover                       0.3.0\n",
            "colour                           0.1.5\n",
            "community                        1.0.0b1\n",
            "confection                       0.1.4\n",
            "cons                             0.4.6\n",
            "contextlib2                      21.6.0\n",
            "contourpy                        1.2.1\n",
            "cryptography                     42.0.5\n",
            "cufflinks                        0.17.3\n",
            "cupy-cuda12x                     12.2.0\n",
            "cvxopt                           1.3.2\n",
            "cvxpy                            1.3.4\n",
            "cycler                           0.12.1\n",
            "cymem                            2.0.8\n",
            "Cython                           3.0.10\n",
            "dask                             2023.8.1\n",
            "datascience                      0.17.6\n",
            "datasets                         2.19.0\n",
            "db-dtypes                        1.2.0\n",
            "dbus-python                      1.2.18\n",
            "debugpy                          1.6.6\n",
            "decorator                        4.4.2\n",
            "defusedxml                       0.7.1\n",
            "dill                             0.3.8\n",
            "distributed                      2023.8.1\n",
            "distro                           1.7.0\n",
            "dlib                             19.24.4\n",
            "dm-tree                          0.1.8\n",
            "docstring_parser                 0.16\n",
            "docutils                         0.18.1\n",
            "dopamine-rl                      4.0.6\n",
            "duckdb                           0.10.2\n",
            "earthengine-api                  0.1.400\n",
            "easydict                         1.13\n",
            "ecos                             2.0.13\n",
            "editdistance                     0.6.2\n",
            "eerepr                           0.0.4\n",
            "en-core-web-sm                   3.7.1\n",
            "entrypoints                      0.4\n",
            "et-xmlfile                       1.1.0\n",
            "etils                            1.7.0\n",
            "etuples                          0.3.9\n",
            "exceptiongroup                   1.2.1\n",
            "fastai                           2.7.14\n",
            "fastcore                         1.5.32\n",
            "fastdownload                     0.0.7\n",
            "fastjsonschema                   2.19.1\n",
            "fastprogress                     1.0.3\n",
            "fastrlock                        0.8.2\n",
            "filelock                         3.13.4\n",
            "fiona                            1.9.6\n",
            "firebase-admin                   5.3.0\n",
            "Flask                            2.2.5\n",
            "flatbuffers                      24.3.25\n",
            "flax                             0.8.2\n",
            "folium                           0.14.0\n",
            "fonttools                        4.51.0\n",
            "frozendict                       2.4.2\n",
            "frozenlist                       1.4.1\n",
            "fsspec                           2023.6.0\n",
            "future                           0.18.3\n",
            "gast                             0.5.4\n",
            "gcsfs                            2023.6.0\n",
            "GDAL                             3.6.4\n",
            "gdown                            5.1.0\n",
            "geemap                           0.32.0\n",
            "gensim                           4.3.2\n",
            "geocoder                         1.38.1\n",
            "geographiclib                    2.0\n",
            "geopandas                        0.13.2\n",
            "geopy                            2.3.0\n",
            "gin-config                       0.5.0\n",
            "glob2                            0.7\n",
            "google                           2.0.3\n",
            "google-ai-generativelanguage     0.6.2\n",
            "google-api-core                  2.11.1\n",
            "google-api-python-client         2.84.0\n",
            "google-auth                      2.27.0\n",
            "google-auth-httplib2             0.1.1\n",
            "google-auth-oauthlib             1.2.0\n",
            "google-cloud-aiplatform          1.48.0\n",
            "google-cloud-bigquery            3.21.0\n",
            "google-cloud-bigquery-connection 1.12.1\n",
            "google-cloud-bigquery-storage    2.24.0\n",
            "google-cloud-core                2.3.3\n",
            "google-cloud-datastore           2.15.2\n",
            "google-cloud-firestore           2.11.1\n",
            "google-cloud-functions           1.13.3\n",
            "google-cloud-iam                 2.15.0\n",
            "google-cloud-language            2.13.3\n",
            "google-cloud-resource-manager    1.12.3\n",
            "google-cloud-storage             2.8.0\n",
            "google-cloud-translate           3.11.3\n",
            "google-colab                     1.0.0\n",
            "google-crc32c                    1.5.0\n",
            "google-generativeai              0.5.2\n",
            "google-pasta                     0.2.0\n",
            "google-resumable-media           2.7.0\n",
            "googleapis-common-protos         1.63.0\n",
            "googledrivedownloader            0.4\n",
            "graphviz                         0.20.3\n",
            "greenlet                         3.0.3\n",
            "grpc-google-iam-v1               0.13.0\n",
            "grpcio                           1.62.2\n",
            "grpcio-status                    1.48.2\n",
            "gspread                          3.4.2\n",
            "gspread-dataframe                3.3.1\n",
            "gym                              0.25.2\n",
            "gym-notices                      0.0.8\n",
            "h5netcdf                         1.3.0\n",
            "h5py                             3.9.0\n",
            "holidays                         0.47\n",
            "holoviews                        1.17.1\n",
            "html5lib                         1.1\n",
            "httpimport                       1.3.1\n",
            "httplib2                         0.22.0\n",
            "huggingface-hub                  0.22.2\n",
            "humanize                         4.7.0\n",
            "hyperopt                         0.2.7\n",
            "ibis-framework                   8.0.0\n",
            "idna                             3.7\n",
            "imageio                          2.31.6\n",
            "imageio-ffmpeg                   0.4.9\n",
            "imagesize                        1.4.1\n",
            "imbalanced-learn                 0.10.1\n",
            "imgaug                           0.4.0\n",
            "importlib_metadata               7.1.0\n",
            "importlib_resources              6.4.0\n",
            "imutils                          0.5.4\n",
            "inflect                          7.0.0\n",
            "iniconfig                        2.0.0\n",
            "intel-openmp                     2023.2.4\n",
            "ipyevents                        2.0.2\n",
            "ipyfilechooser                   0.6.0\n",
            "ipykernel                        5.5.6\n",
            "ipyleaflet                       0.19.0\n",
            "ipython                          7.34.0\n",
            "ipython-genutils                 0.2.0\n",
            "ipython-sql                      0.5.0\n",
            "ipytree                          0.2.2\n",
            "ipywidgets                       7.7.1\n",
            "itsdangerous                     2.2.0\n",
            "jax                              0.4.26\n",
            "jaxlib                           0.4.26+cuda12.cudnn89\n",
            "jeepney                          0.7.1\n",
            "jieba                            0.42.1\n",
            "Jinja2                           3.1.3\n",
            "joblib                           1.4.0\n",
            "jsonpickle                       3.0.4\n",
            "jsonschema                       4.19.2\n",
            "jsonschema-specifications        2023.12.1\n",
            "jupyter-client                   6.1.12\n",
            "jupyter-console                  6.1.0\n",
            "jupyter_core                     5.7.2\n",
            "jupyter-leaflet                  0.19.0\n",
            "jupyter-server                   1.24.0\n",
            "jupyterlab_pygments              0.3.0\n",
            "jupyterlab_widgets               3.0.10\n",
            "kaggle                           1.6.12\n",
            "kagglehub                        0.2.4\n",
            "keras                            2.15.0\n",
            "keyring                          23.5.0\n",
            "kiwisolver                       1.4.5\n",
            "langcodes                        3.4.0\n",
            "language_data                    1.2.0\n",
            "launchpadlib                     1.10.16\n",
            "lazr.restfulclient               0.14.4\n",
            "lazr.uri                         1.0.6\n",
            "lazy_loader                      0.4\n",
            "libclang                         18.1.1\n",
            "librosa                          0.10.1\n",
            "lightgbm                         4.1.0\n",
            "linkify-it-py                    2.0.3\n",
            "llvmlite                         0.41.1\n",
            "locket                           1.0.0\n",
            "logical-unification              0.4.6\n",
            "lxml                             4.9.4\n",
            "malloy                           2023.1067\n",
            "marisa-trie                      1.1.0\n",
            "Markdown                         3.6\n",
            "markdown-it-py                   3.0.0\n",
            "MarkupSafe                       2.1.5\n",
            "matplotlib                       3.7.1\n",
            "matplotlib-inline                0.1.7\n",
            "matplotlib-venn                  0.11.10\n",
            "mdit-py-plugins                  0.4.0\n",
            "mdurl                            0.1.2\n",
            "miniKanren                       1.0.3\n",
            "missingno                        0.5.2\n",
            "mistune                          0.8.4\n",
            "mizani                           0.9.3\n",
            "mkl                              2023.2.0\n",
            "ml-dtypes                        0.2.0\n",
            "mlxtend                          0.22.0\n",
            "more-itertools                   10.1.0\n",
            "moviepy                          1.0.3\n",
            "mpmath                           1.3.0\n",
            "msgpack                          1.0.8\n",
            "multidict                        6.0.5\n",
            "multipledispatch                 1.0.0\n",
            "multiprocess                     0.70.16\n",
            "multitasking                     0.0.11\n",
            "murmurhash                       1.0.10\n",
            "music21                          9.1.0\n",
            "natsort                          8.4.0\n",
            "nbclassic                        1.0.0\n",
            "nbclient                         0.10.0\n",
            "nbconvert                        6.5.4\n",
            "nbformat                         5.10.4\n",
            "nest-asyncio                     1.6.0\n",
            "networkx                         3.3\n",
            "nibabel                          4.0.2\n",
            "nltk                             3.8.1\n",
            "notebook                         6.5.5\n",
            "notebook_shim                    0.2.4\n",
            "numba                            0.58.1\n",
            "numexpr                          2.10.0\n",
            "numpy                            1.25.2\n",
            "oauth2client                     4.1.3\n",
            "oauthlib                         3.2.2\n",
            "opencv-contrib-python            4.8.0.76\n",
            "opencv-python                    4.8.0.76\n",
            "opencv-python-headless           4.9.0.80\n",
            "openpyxl                         3.1.2\n",
            "opt-einsum                       3.3.0\n",
            "optax                            0.2.2\n",
            "orbax-checkpoint                 0.4.4\n",
            "osqp                             0.6.2.post8\n",
            "packaging                        24.0\n",
            "pandas                           2.0.3\n",
            "pandas-datareader                0.10.0\n",
            "pandas-gbq                       0.19.2\n",
            "pandas-stubs                     2.0.3.230814\n",
            "pandocfilters                    1.5.1\n",
            "panel                            1.3.8\n",
            "param                            2.1.0\n",
            "parso                            0.8.4\n",
            "parsy                            2.1\n",
            "partd                            1.4.1\n",
            "pathlib                          1.0.1\n",
            "patsy                            0.5.6\n",
            "peewee                           3.17.3\n",
            "pexpect                          4.9.0\n",
            "pickleshare                      0.7.5\n",
            "Pillow                           9.4.0\n",
            "pip                              23.1.2\n",
            "pip-tools                        6.13.0\n",
            "platformdirs                     4.2.1\n",
            "plotly                           5.15.0\n",
            "plotnine                         0.12.4\n",
            "pluggy                           1.5.0\n",
            "polars                           0.20.2\n",
            "pooch                            1.8.1\n",
            "portpicker                       1.5.2\n",
            "prefetch-generator               1.0.3\n",
            "preshed                          3.0.9\n",
            "prettytable                      3.10.0\n",
            "proglog                          0.1.10\n",
            "progressbar2                     4.2.0\n",
            "prometheus_client                0.20.0\n",
            "promise                          2.3\n",
            "prompt-toolkit                   3.0.43\n",
            "prophet                          1.1.5\n",
            "proto-plus                       1.23.0\n",
            "protobuf                         3.20.3\n",
            "psutil                           5.9.5\n",
            "psycopg2                         2.9.9\n",
            "ptyprocess                       0.7.0\n",
            "py-cpuinfo                       9.0.0\n",
            "py4j                             0.10.9.7\n",
            "pyarrow                          14.0.2\n",
            "pyarrow-hotfix                   0.6\n",
            "pyasn1                           0.6.0\n",
            "pyasn1_modules                   0.4.0\n",
            "pycocotools                      2.0.7\n",
            "pycparser                        2.22\n",
            "pydantic                         2.7.1\n",
            "pydantic_core                    2.18.2\n",
            "pydata-google-auth               1.8.2\n",
            "pydot                            1.4.2\n",
            "pydot-ng                         2.0.0\n",
            "pydotplus                        2.0.2\n",
            "PyDrive                          1.3.1\n",
            "PyDrive2                         1.6.3\n",
            "pyerfa                           2.0.1.4\n",
            "pygame                           2.5.2\n",
            "Pygments                         2.16.1\n",
            "PyGObject                        3.42.1\n",
            "PyJWT                            2.3.0\n",
            "pymc                             5.10.4\n",
            "pymystem3                        0.2.0\n",
            "PyOpenGL                         3.1.7\n",
            "pyOpenSSL                        24.1.0\n",
            "pyparsing                        3.1.2\n",
            "pyperclip                        1.8.2\n",
            "pyproj                           3.6.1\n",
            "pyproject_hooks                  1.1.0\n",
            "pyshp                            2.3.1\n",
            "PySocks                          1.7.1\n",
            "pytensor                         2.18.6\n",
            "pytest                           7.4.4\n",
            "python-apt                       0.0.0\n",
            "python-box                       7.1.1\n",
            "python-dateutil                  2.8.2\n",
            "python-louvain                   0.16\n",
            "python-slugify                   8.0.4\n",
            "python-utils                     3.8.2\n",
            "pytz                             2023.4\n",
            "pyviz_comms                      3.0.2\n",
            "PyWavelets                       1.6.0\n",
            "PyYAML                           6.0.1\n",
            "pyzmq                            24.0.1\n",
            "qdldl                            0.1.7.post2\n",
            "qudida                           0.0.4\n",
            "ratelim                          0.1.6\n",
            "referencing                      0.35.0\n",
            "regex                            2023.12.25\n",
            "requests                         2.31.0\n",
            "requests-oauthlib                1.3.1\n",
            "requirements-parser              0.9.0\n",
            "rich                             13.7.1\n",
            "rpds-py                          0.18.0\n",
            "rpy2                             3.4.2\n",
            "rsa                              4.9\n",
            "safetensors                      0.4.3\n",
            "scikit-image                     0.19.3\n",
            "scikit-learn                     1.2.2\n",
            "scipy                            1.11.4\n",
            "scooby                           0.9.2\n",
            "scs                              3.2.4.post1\n",
            "seaborn                          0.13.1\n",
            "SecretStorage                    3.3.1\n",
            "Send2Trash                       1.8.3\n",
            "sentencepiece                    0.1.99\n",
            "setuptools                       67.7.2\n",
            "shapely                          2.0.4\n",
            "six                              1.16.0\n",
            "sklearn-pandas                   2.2.0\n",
            "smart-open                       6.4.0\n",
            "sniffio                          1.3.1\n",
            "snowballstemmer                  2.2.0\n",
            "sortedcontainers                 2.4.0\n",
            "soundfile                        0.12.1\n",
            "soupsieve                        2.5\n",
            "soxr                             0.3.7\n",
            "spacy                            3.7.4\n",
            "spacy-legacy                     3.0.12\n",
            "spacy-loggers                    1.0.5\n",
            "Sphinx                           5.0.2\n",
            "sphinxcontrib-applehelp          1.0.8\n",
            "sphinxcontrib-devhelp            1.0.6\n",
            "sphinxcontrib-htmlhelp           2.0.5\n",
            "sphinxcontrib-jsmath             1.0.1\n",
            "sphinxcontrib-qthelp             1.0.7\n",
            "sphinxcontrib-serializinghtml    1.1.10\n",
            "SQLAlchemy                       2.0.29\n",
            "sqlglot                          20.11.0\n",
            "sqlparse                         0.5.0\n",
            "srsly                            2.4.8\n",
            "stanio                           0.5.0\n",
            "statsmodels                      0.14.2\n",
            "sympy                            1.12\n",
            "tables                           3.8.0\n",
            "tabulate                         0.9.0\n",
            "tbb                              2021.12.0\n",
            "tblib                            3.0.0\n",
            "tenacity                         8.2.3\n",
            "tensorboard                      2.15.2\n",
            "tensorboard-data-server          0.7.2\n",
            "tensorflow                       2.15.0\n",
            "tensorflow-datasets              4.9.4\n",
            "tensorflow-estimator             2.15.0\n",
            "tensorflow-gcs-config            2.15.0\n",
            "tensorflow-hub                   0.16.1\n",
            "tensorflow-io-gcs-filesystem     0.36.0\n",
            "tensorflow-metadata              1.15.0\n",
            "tensorflow-probability           0.23.0\n",
            "tensorstore                      0.1.45\n",
            "termcolor                        2.4.0\n",
            "terminado                        0.18.1\n",
            "text-unidecode                   1.3\n",
            "textblob                         0.17.1\n",
            "tf_keras                         2.15.1\n",
            "tf-slim                          1.1.0\n",
            "thinc                            8.2.3\n",
            "threadpoolctl                    3.4.0\n",
            "tifffile                         2024.4.24\n",
            "tinycss2                         1.3.0\n",
            "tokenizers                       0.19.1\n",
            "toml                             0.10.2\n",
            "tomli                            2.0.1\n",
            "toolz                            0.12.1\n",
            "torch                            2.2.1+cu121\n",
            "torchaudio                       2.2.1+cu121\n",
            "torchdata                        0.7.1\n",
            "torchsummary                     1.5.1\n",
            "torchtext                        0.17.1\n",
            "torchvision                      0.17.1+cu121\n",
            "tornado                          6.3.3\n",
            "tqdm                             4.66.2\n",
            "traitlets                        5.7.1\n",
            "traittypes                       0.2.1\n",
            "transformers                     4.40.1\n",
            "triton                           2.2.0\n",
            "tweepy                           4.14.0\n",
            "typer                            0.9.4\n",
            "types-pytz                       2024.1.0.20240417\n",
            "types-setuptools                 69.5.0.20240423\n",
            "typing_extensions                4.11.0\n",
            "tzdata                           2024.1\n",
            "tzlocal                          5.2\n",
            "uc-micro-py                      1.0.3\n",
            "uritemplate                      4.1.1\n",
            "urllib3                          2.0.7\n",
            "vega-datasets                    0.9.0\n",
            "wadllib                          1.3.6\n",
            "wasabi                           1.1.2\n",
            "wcwidth                          0.2.13\n",
            "weasel                           0.3.4\n",
            "webcolors                        1.13\n",
            "webencodings                     0.5.1\n",
            "websocket-client                 1.8.0\n",
            "Werkzeug                         3.0.2\n",
            "wheel                            0.43.0\n",
            "widgetsnbextension               3.6.6\n",
            "wordcloud                        1.9.3\n",
            "wrapt                            1.14.1\n",
            "xarray                           2023.7.0\n",
            "xarray-einstats                  0.7.0\n",
            "xgboost                          2.0.3\n",
            "xlrd                             2.0.1\n",
            "xxhash                           3.4.1\n",
            "xyzservices                      2024.4.0\n",
            "yarl                             1.9.4\n",
            "yellowbrick                      1.5\n",
            "yfinance                         0.2.38\n",
            "zict                             3.0.0\n",
            "zipp                             3.18.1\n"
          ]
        }
      ]
    },
    {
      "cell_type": "markdown",
      "source": [
        "Imports"
      ],
      "metadata": {
        "id": "c4D4ubt7Aedu"
      }
    },
    {
      "cell_type": "code",
      "source": [
        "import torch\n",
        "from datasets import load_dataset\n",
        "import os\n",
        "import pandas as pd\n",
        "import random\n",
        "import numpy as np\n",
        "import time\n",
        "import datetime\n",
        "\n",
        "import matplotlib.pyplot as plt\n",
        "%matplotlib inline\n",
        "\n",
        "import seaborn as sns\n",
        "\n",
        "import sklearn.metrics as smetrics\n",
        "\n",
        "from transformers import BertTokenizer, BertForSequenceClassification, AdamW, BertConfig, get_linear_schedule_with_warmup\n",
        "from torch.utils.data import TensorDataset, random_split, DataLoader, RandomSampler"
      ],
      "metadata": {
        "id": "wo52TjNjAdvj"
      },
      "execution_count": null,
      "outputs": []
    },
    {
      "cell_type": "code",
      "source": [
        "seed = 2020\n",
        "\n",
        "random.seed(seed)\n",
        "np.random.seed(seed)\n",
        "torch.manual_seed(seed)\n",
        "torch.cuda.manual_seed_all(seed)"
      ],
      "metadata": {
        "id": "wqwyYWCiPZUz"
      },
      "execution_count": null,
      "outputs": []
    },
    {
      "cell_type": "markdown",
      "source": [
        "Connecting to the GPU"
      ],
      "metadata": {
        "id": "qgNNmo7cAl1Z"
      }
    },
    {
      "cell_type": "code",
      "source": [
        "# Check GPU availablity and connect if found.\n",
        "if torch.cuda.is_available():\n",
        "    device = torch.device(\"cuda\")\n",
        "    print('Connecting to GPU - ', torch.cuda.get_device_name(0))\n",
        "else:\n",
        "    print('No GPU found. Using the CPU instead.')\n",
        "    device = torch.device(\"cpu\")"
      ],
      "metadata": {
        "id": "8ZdJVj37B9bl",
        "colab": {
          "base_uri": "https://localhost:8080/"
        },
        "outputId": "3f970d77-07c9-4057-f633-02d7aa5d3ae1"
      },
      "execution_count": null,
      "outputs": [
        {
          "output_type": "stream",
          "name": "stdout",
          "text": [
            "Connecting to GPU -  Tesla T4\n"
          ]
        }
      ]
    },
    {
      "cell_type": "markdown",
      "source": [
        "Loading the dataset"
      ],
      "metadata": {
        "id": "8JstpYi_zU9o"
      }
    },
    {
      "cell_type": "code",
      "source": [
        "print('Loading dataset...')\n",
        "\n",
        "train_dataset = load_dataset('glue', 'mrpc', split='train')\n",
        "val_dataset = load_dataset('glue', 'mrpc', split='validation')\n",
        "test_dataset = load_dataset('glue', 'mrpc', split='test')"
      ],
      "metadata": {
        "id": "oUX2eDvbzUXC",
        "colab": {
          "base_uri": "https://localhost:8080/"
        },
        "outputId": "2f3950d8-7e66-4a9e-dd16-2f0062d54d40"
      },
      "execution_count": null,
      "outputs": [
        {
          "output_type": "stream",
          "name": "stdout",
          "text": [
            "Loading dataset...\n"
          ]
        }
      ]
    },
    {
      "cell_type": "code",
      "source": [
        "print(train_dataset)"
      ],
      "metadata": {
        "id": "1RSuo-Mtzwag",
        "colab": {
          "base_uri": "https://localhost:8080/"
        },
        "outputId": "2f53c32e-96a7-4b92-83aa-ebd204171172"
      },
      "execution_count": null,
      "outputs": [
        {
          "output_type": "stream",
          "name": "stdout",
          "text": [
            "Dataset({\n",
            "    features: ['sentence1', 'sentence2', 'label', 'idx'],\n",
            "    num_rows: 3668\n",
            "})\n"
          ]
        }
      ]
    },
    {
      "cell_type": "markdown",
      "source": [
        "Preprocess Text"
      ],
      "metadata": {
        "id": "uBEN2cEWD288"
      }
    },
    {
      "cell_type": "code",
      "source": [
        "def preprocess_text(dataset, tokenizer, batch_size, seq_length = 64):\n",
        "  '''\n",
        "  Formats data to be in required format and creates a DataLoader for the formatted data\n",
        "\n",
        "  Args:\n",
        "  dataset: data to be processed\n",
        "  tokenizer: tokenizer of the selected BERT model\n",
        "  batch_size: number of examples in individual data batches\n",
        "  seq_length: integer defining the sequence legnth of BERT inputs\n",
        "  (default = 64, due to quadratic computation cost of attention)\n",
        "\n",
        "  Returns:\n",
        "  data_loader: DataLoader iterable containing randomly sampled batches of data having size `batch_size` in required format\n",
        "  '''\n",
        "\n",
        "  def encode(samples):\n",
        "    return tokenizer(samples['sentence1'],\n",
        "                     samples['sentence2'],\n",
        "                     add_special_tokens=True,\n",
        "                     max_length = seq_length,\n",
        "                     truncation=True,\n",
        "                     pad_to_max_length = True,\n",
        "                     return_attention_mask = True)\n",
        "\n",
        "  # Encode samples in dataset using map function\n",
        "  dataset = dataset.map(encode, batched=True)\n",
        "\n",
        "  # Change label to labels (required format for BERT model)\n",
        "  dataset = dataset.map(lambda samples: {'labels': samples['label']}, batched=True)\n",
        "\n",
        "  # Keep only required columns and change them to pytorch tensors\n",
        "  dataset.set_format(type='torch', columns=['input_ids', 'token_type_ids', 'attention_mask', 'labels'])\n",
        "\n",
        "  # Create dataloader\n",
        "  data_loader = DataLoader(dataset,\n",
        "                            sampler = RandomSampler(dataset),\n",
        "                            batch_size = batch_size\n",
        "                            )\n",
        "\n",
        "  return data_loader"
      ],
      "metadata": {
        "id": "eubx--l9NpBR"
      },
      "execution_count": null,
      "outputs": []
    },
    {
      "cell_type": "code",
      "source": [
        "def init_model(bert_model_name, num_labels):\n",
        "  '''\n",
        "  Initialize pre-trained BERT model\n",
        "\n",
        "  Args:\n",
        "  bert_model_name: String. Name of the BERT model to be used.\n",
        "  num_labels: Number of classification labels\n",
        "\n",
        "  Returns:\n",
        "  model: Pre-trained BERT model with a linear layer on top for classification, loaded to device\n",
        "  '''\n",
        "\n",
        "  # We are using BertForSequentialClassification for this task.\n",
        "  # It is a pre-trained BERT model with a single linear layer on top for classification.\n",
        "  model = BertForSequenceClassification.from_pretrained(bert_model_name,\n",
        "                                                        num_labels = num_labels,\n",
        "                                                        output_attentions = False,\n",
        "                                                        output_hidden_states = False,\n",
        "                                                        )\n",
        "  # Set model to run on GPU\n",
        "  model.cuda()\n",
        "\n",
        "  # Print model parameters\n",
        "  model_params = list(model.named_parameters())\n",
        "  print(\"The model parameters are : \")\n",
        "  print(\"Embedding Layer: \")\n",
        "  for p in model_params[0:5]:\n",
        "    print(\"{:<60} {:>10}\".format(p[0], str(tuple(p[1].size()))))\n",
        "\n",
        "  print(\"Transformer Layers: \")\n",
        "  for p in model_params[5:25]:\n",
        "    print(\"{:<60} {:>10}\".format(p[0], str(tuple(p[1].size()))))\n",
        "\n",
        "  print(\"Output Layer: \")\n",
        "  for p in model_params[-4:]:\n",
        "    print(\"{:<60} {:>10}\".format(p[0], str(tuple(p[1].size()))))\n",
        "\n",
        "  return model\n"
      ],
      "metadata": {
        "id": "bXUkNX5p_-mg"
      },
      "execution_count": null,
      "outputs": []
    },
    {
      "cell_type": "code",
      "source": [
        "def init_optimizer(model, num_steps, lr = 2e-5, eps = 1e-8):\n",
        "  '''\n",
        "  Initialize AdamW optimizer and learning rate schedule for model training\n",
        "\n",
        "  Args:\n",
        "  model: BERT model to be fine tuned\n",
        "  num_steps: total number of steps across all epochs\n",
        "  lr: learning rate (default = 2e-5, selected from BERT paper)\n",
        "  eps: term added to denominator for numerical stability of AdamW (default: 1e-8)\n",
        "\n",
        "  Returns:\n",
        "  optimizer: AdamW optimizer initialized with hyperparameters\n",
        "  scheduler: Learning rate schedule for the optimizer\n",
        "  '''\n",
        "\n",
        "  # We are using AdamW optimizer with learning rate = 2e-5, eps = 1e-8 and number of steps = num_steps\n",
        "  optimizer = AdamW(model.parameters(),\n",
        "                    lr = lr,\n",
        "                    eps = eps,\n",
        "                    )\n",
        "\n",
        "  # Set a learning rate schedule with warmup_steps = 0 and training_steps = num_steps\n",
        "  scheduler = get_linear_schedule_with_warmup(optimizer,\n",
        "                                              num_warmup_steps = 0,\n",
        "                                              num_training_steps = num_steps\n",
        "                                              )\n",
        "  return optimizer, scheduler"
      ],
      "metadata": {
        "id": "OJBSCOlxHpVx"
      },
      "execution_count": null,
      "outputs": []
    },
    {
      "cell_type": "code",
      "source": [
        "def model_training_epoch(model, train_loader, optimizer, scheduler):\n",
        "  '''\n",
        "  Training of BERT model for current epoch\n",
        "\n",
        "  Args:\n",
        "  model: BERT model to be fine tuned\n",
        "  train_loader: DataLoader iterable for training data\n",
        "  optimizer: optimizer for tuning model parameters\n",
        "  scheduler: Learning rate schedule for the optimizer\n",
        "\n",
        "  Returns:\n",
        "  model: Fine-tuned BERT model\n",
        "  total_loss: Total training loss across all batches for current epoch\n",
        "  '''\n",
        "\n",
        "  # Variable for total_loss for this epoch\n",
        "  total_loss = 0\n",
        "\n",
        "  # Get start time for current epoch training\n",
        "  train_time_start = time.time()\n",
        "\n",
        "  # Set model to training mode\n",
        "  model.train()\n",
        "\n",
        "  # Go through the training data\n",
        "  for step, batch in enumerate(train_loader):\n",
        "    # Print step progress every 30 steps\n",
        "    if step != 0 and step % 30 == 0:\n",
        "      elapsed_time = int(round(time.time() - train_time_start))\n",
        "      print('Batch {:>5,}  |  {:>5,}.    Elapsed time: {:}.'.format(step, len(train_loader), datetime.timedelta(seconds=elapsed_time)))\n",
        "\n",
        "    # Clear gradients\n",
        "    model.zero_grad()\n",
        "\n",
        "    # Set all training arguments to run on GPU\n",
        "    batch = {k: v.to(device) for k, v in batch.items()}\n",
        "\n",
        "    # Forward pass\n",
        "    loss, logits = model(**batch).to_tuple()\n",
        "\n",
        "    # Accumulate total loss\n",
        "    total_loss += loss.item()\n",
        "\n",
        "    # Backpropogate loss to get gradients\n",
        "    loss.backward()\n",
        "\n",
        "    # Clip norm of gradients to 1.0 (to prevent exploding gradient)\n",
        "    torch.nn.utils.clip_grad_norm_(model.parameters(), 1.0)\n",
        "\n",
        "    # Perform an optimization step to update weights\n",
        "    optimizer.step()\n",
        "\n",
        "    # Update learning rate using scheduler step\n",
        "    scheduler.step()\n",
        "\n",
        "  return model, total_loss\n"
      ],
      "metadata": {
        "id": "JIqV8_KNOpeR"
      },
      "execution_count": null,
      "outputs": []
    },
    {
      "cell_type": "code",
      "source": [
        "def model_eval_epoch(model, eval_loader):\n",
        "  '''\n",
        "  Evaluation of BERT model for current epoch\n",
        "\n",
        "  Args:\n",
        "  model: BERT model to be evaluated\n",
        "  eval_loader: DataLoader iterable for evaluation data\n",
        "\n",
        "  Returns:\n",
        "  pred_labels: Predicted data labels\n",
        "  true_labels: True data labels\n",
        "  total_loss: Total evaluation loss across all batches for current epoch\n",
        "  '''\n",
        "\n",
        "  # Variable for total_loss for this epoch\n",
        "  total_loss = 0\n",
        "\n",
        "  # Variables to store predictions and corresoponding true labels\n",
        "  pred_labels, true_labels = [], []\n",
        "\n",
        "  # Set model to evaluation mode\n",
        "  model.eval()\n",
        "\n",
        "  # Go through the validation data\n",
        "  for _, batch in enumerate(eval_loader):\n",
        "    # Evaluate model with no gradient calculation\n",
        "    with torch.no_grad():\n",
        "      # Set all training arguments to run on GPU\n",
        "      batch = {k: v.to(device) for k, v in batch.items()}\n",
        "\n",
        "      # Forward pass\n",
        "      loss, logits = model(**batch).to_tuple()\n",
        "\n",
        "    # Accumulate total loss\n",
        "    total_loss += loss.item()\n",
        "\n",
        "    # Move logits and labels to CPU\n",
        "    logits = logits.detach().cpu().numpy()\n",
        "    batch_labels = batch['labels'].cpu().numpy()\n",
        "\n",
        "    # Store predictions and labels\n",
        "    pred_labels.append(logits)\n",
        "    true_labels.append(batch_labels)\n",
        "\n",
        "  return pred_labels, true_labels, total_loss"
      ],
      "metadata": {
        "id": "KKmNOuJqeJ6p"
      },
      "execution_count": null,
      "outputs": []
    },
    {
      "cell_type": "markdown",
      "source": [
        "Selection of model, tokenizer and setting hyper parameters"
      ],
      "metadata": {
        "id": "rr1LAevDDix9"
      }
    },
    {
      "cell_type": "code",
      "source": [
        "bert_model_name = 'bert-base-uncased'"
      ],
      "metadata": {
        "id": "6Hz98248EGJl"
      },
      "execution_count": null,
      "outputs": []
    },
    {
      "cell_type": "code",
      "source": [
        "# Loading the BERT tokenizer.\n",
        "print('Loading BERT tokenizer...')\n",
        "tokenizer = BertTokenizer.from_pretrained(bert_model_name, do_lower_case=True)"
      ],
      "metadata": {
        "id": "RQy6rA-i0muN",
        "colab": {
          "base_uri": "https://localhost:8080/"
        },
        "outputId": "588b59b0-6f45-4b57-e663-4e04fbe76304"
      },
      "execution_count": null,
      "outputs": [
        {
          "output_type": "stream",
          "name": "stdout",
          "text": [
            "Loading BERT tokenizer...\n"
          ]
        }
      ]
    },
    {
      "cell_type": "code",
      "source": [
        "# Set training hyperparameters (values chosen as suggested by authors of BERT)\n",
        "batch_size = 32\n",
        "num_labels = 2\n",
        "lr = 2e-5\n",
        "eps = 1e-8\n",
        "epochs = 3"
      ],
      "metadata": {
        "id": "C44sf4kxKt1f"
      },
      "execution_count": null,
      "outputs": []
    },
    {
      "cell_type": "markdown",
      "source": [
        "Preprocess data, setup loader and load models"
      ],
      "metadata": {
        "id": "8c0m2jF67tEp"
      }
    },
    {
      "cell_type": "code",
      "source": [
        "train_loader = preprocess_text(train_dataset, tokenizer, batch_size)\n",
        "val_loader = preprocess_text(val_dataset, tokenizer, batch_size)"
      ],
      "metadata": {
        "id": "otCuKbNkJLwq"
      },
      "execution_count": null,
      "outputs": []
    },
    {
      "cell_type": "code",
      "source": [
        "model = init_model(bert_model_name, num_labels)"
      ],
      "metadata": {
        "id": "2glJhjGZJz86",
        "colab": {
          "base_uri": "https://localhost:8080/"
        },
        "outputId": "c35ca3ed-3f3f-4b71-e503-cc6f1cc126f2"
      },
      "execution_count": null,
      "outputs": [
        {
          "output_type": "stream",
          "name": "stderr",
          "text": [
            "Some weights of BertForSequenceClassification were not initialized from the model checkpoint at bert-base-uncased and are newly initialized: ['classifier.bias', 'classifier.weight']\n",
            "You should probably TRAIN this model on a down-stream task to be able to use it for predictions and inference.\n"
          ]
        },
        {
          "output_type": "stream",
          "name": "stdout",
          "text": [
            "The model parameters are : \n",
            "Embedding Layer: \n",
            "bert.embeddings.word_embeddings.weight                       (30522, 768)\n",
            "bert.embeddings.position_embeddings.weight                   (512, 768)\n",
            "bert.embeddings.token_type_embeddings.weight                   (2, 768)\n",
            "bert.embeddings.LayerNorm.weight                                 (768,)\n",
            "bert.embeddings.LayerNorm.bias                                   (768,)\n",
            "Transformer Layers: \n",
            "bert.encoder.layer.0.attention.self.query.weight             (768, 768)\n",
            "bert.encoder.layer.0.attention.self.query.bias                   (768,)\n",
            "bert.encoder.layer.0.attention.self.key.weight               (768, 768)\n",
            "bert.encoder.layer.0.attention.self.key.bias                     (768,)\n",
            "bert.encoder.layer.0.attention.self.value.weight             (768, 768)\n",
            "bert.encoder.layer.0.attention.self.value.bias                   (768,)\n",
            "bert.encoder.layer.0.attention.output.dense.weight           (768, 768)\n",
            "bert.encoder.layer.0.attention.output.dense.bias                 (768,)\n",
            "bert.encoder.layer.0.attention.output.LayerNorm.weight           (768,)\n",
            "bert.encoder.layer.0.attention.output.LayerNorm.bias             (768,)\n",
            "bert.encoder.layer.0.intermediate.dense.weight               (3072, 768)\n",
            "bert.encoder.layer.0.intermediate.dense.bias                    (3072,)\n",
            "bert.encoder.layer.0.output.dense.weight                     (768, 3072)\n",
            "bert.encoder.layer.0.output.dense.bias                           (768,)\n",
            "bert.encoder.layer.0.output.LayerNorm.weight                     (768,)\n",
            "bert.encoder.layer.0.output.LayerNorm.bias                       (768,)\n",
            "bert.encoder.layer.1.attention.self.query.weight             (768, 768)\n",
            "bert.encoder.layer.1.attention.self.query.bias                   (768,)\n",
            "bert.encoder.layer.1.attention.self.key.weight               (768, 768)\n",
            "bert.encoder.layer.1.attention.self.key.bias                     (768,)\n",
            "Output Layer: \n",
            "bert.pooler.dense.weight                                     (768, 768)\n",
            "bert.pooler.dense.bias                                           (768,)\n",
            "classifier.weight                                              (2, 768)\n",
            "classifier.bias                                                    (2,)\n"
          ]
        }
      ]
    },
    {
      "cell_type": "code",
      "source": [
        "num_steps = len(train_loader) * epochs\n",
        "optimizer, scheduler = init_optimizer(model, num_steps=num_steps, lr=lr, eps=eps)"
      ],
      "metadata": {
        "id": "iFfjxuPlJ9JD",
        "colab": {
          "base_uri": "https://localhost:8080/"
        },
        "outputId": "67b8aad7-44ef-4b33-da4b-f52b4f901117"
      },
      "execution_count": null,
      "outputs": [
        {
          "output_type": "stream",
          "name": "stderr",
          "text": [
            "/usr/local/lib/python3.10/dist-packages/transformers/optimization.py:521: FutureWarning: This implementation of AdamW is deprecated and will be removed in a future version. Use the PyTorch implementation torch.optim.AdamW instead, or set `no_deprecation_warning=True` to disable this warning\n",
            "  warnings.warn(\n"
          ]
        }
      ]
    },
    {
      "cell_type": "markdown",
      "source": [
        "Model training and validation"
      ],
      "metadata": {
        "id": "MYV1vgUsLIZA"
      }
    },
    {
      "cell_type": "code",
      "source": [
        "# Store some training stats\n",
        "stats = []\n",
        "\n",
        "overall_time_start = time.time()\n",
        "\n",
        "for e in range(0, epochs):\n",
        "  # Print current training epoch\n",
        "  print(\"Epoch {} | {}\".format(e+1, epochs))\n",
        "  print(\"Training\")\n",
        "\n",
        "  # Get start time for training\n",
        "  e_train_start = time.time()\n",
        "\n",
        "  # Model training\n",
        "  model, epoch_train_loss = model_training_epoch(model, train_loader, optimizer, scheduler)\n",
        "\n",
        "  # Training time for this epoch\n",
        "  training_time = time.time() - e_train_start\n",
        "\n",
        "  # Average training loss across all batches\n",
        "  avg_training_loss = epoch_train_loss/len(train_loader)\n",
        "\n",
        "  print(\"  Average training loss: {0:.2f}\".format(avg_training_loss))\n",
        "  print(\"  Epoch training time: {:}\".format(training_time))\n",
        "\n",
        "  print(\"Validation\")\n",
        "\n",
        "  # Get start time for validaiton\n",
        "  e_val_start = time.time()\n",
        "\n",
        "  # Model validation\n",
        "  _, _, epoch_val_loss = model_eval_epoch(model, val_loader)\n",
        "\n",
        "  # Validation time for this epoch\n",
        "  val_time = time.time() - e_val_start\n",
        "\n",
        "  # Average validation loss across all batches\n",
        "  avg_val_loss = epoch_val_loss/len(val_loader)\n",
        "\n",
        "  print(\"  Average validation loss: {0:.2f}\".format(avg_val_loss))\n",
        "  print(\"  Epoch validation time: {:}\".format(datetime.timedelta(seconds=int(round(val_time)))))\n",
        "\n",
        "  # Store stats\n",
        "  stats.append(\n",
        "    {\n",
        "      'Epoch': e + 1,\n",
        "      'Training Time': training_time,\n",
        "      'Training Loss': avg_training_loss,\n",
        "      'Validation Time': val_time,\n",
        "      'Validation Loss': avg_val_loss\n",
        "    }\n",
        "  )\n",
        "\n",
        "print(\"\")\n",
        "print(\"Training complete!\")\n",
        "\n",
        "print(\"Total training time {:} (hh:mm:ss)\".format(datetime.timedelta(seconds=int(round(time.time()-overall_time_start)))))"
      ],
      "metadata": {
        "id": "2eknBfqlLK3N",
        "colab": {
          "base_uri": "https://localhost:8080/"
        },
        "outputId": "76ea890e-bfbe-4d8f-a714-939c43a1770d"
      },
      "execution_count": null,
      "outputs": [
        {
          "output_type": "stream",
          "name": "stdout",
          "text": [
            "Epoch 1 | 3\n",
            "Training\n",
            "Batch    30  |    115.    Elapsed time: 0:00:11.\n",
            "Batch    60  |    115.    Elapsed time: 0:00:21.\n",
            "Batch    90  |    115.    Elapsed time: 0:00:32.\n",
            "  Average training loss: 0.57\n",
            "  Epoch training time: 39.95895290374756\n",
            "Validation\n",
            "  Average validation loss: 0.49\n",
            "  Epoch validation time: 0:00:01\n",
            "Epoch 2 | 3\n",
            "Training\n",
            "Batch    30  |    115.    Elapsed time: 0:00:10.\n",
            "Batch    60  |    115.    Elapsed time: 0:00:20.\n",
            "Batch    90  |    115.    Elapsed time: 0:00:30.\n",
            "  Average training loss: 0.42\n",
            "  Epoch training time: 37.76555943489075\n",
            "Validation\n",
            "  Average validation loss: 0.44\n",
            "  Epoch validation time: 0:00:01\n",
            "Epoch 3 | 3\n",
            "Training\n",
            "Batch    30  |    115.    Elapsed time: 0:00:10.\n",
            "Batch    60  |    115.    Elapsed time: 0:00:20.\n",
            "Batch    90  |    115.    Elapsed time: 0:00:31.\n",
            "  Average training loss: 0.30\n",
            "  Epoch training time: 38.93520212173462\n",
            "Validation\n",
            "  Average validation loss: 0.44\n",
            "  Epoch validation time: 0:00:02\n",
            "\n",
            "Training complete!\n",
            "Total training time 0:02:01 (hh:mm:ss)\n"
          ]
        }
      ]
    },
    {
      "cell_type": "markdown",
      "source": [
        "Training stats"
      ],
      "metadata": {
        "id": "SHnxxceTdRzr"
      }
    },
    {
      "cell_type": "code",
      "source": [
        "# Set precision to 2 places\n",
        "pd.set_option('display.precision', 3)\n",
        "\n",
        "# Create a DataFrame from our training statistics.\n",
        "stats_df = pd.DataFrame(data=stats)\n",
        "\n",
        "# Set 'Epoch' as row index\n",
        "stats_df = stats_df.set_index('Epoch')\n",
        "\n",
        "# Display the table.\n",
        "stats_df"
      ],
      "metadata": {
        "id": "pxmd7DzSdPPx",
        "colab": {
          "base_uri": "https://localhost:8080/",
          "height": 175
        },
        "outputId": "9d462638-03ac-4f1d-b48e-1003c3ea2644"
      },
      "execution_count": null,
      "outputs": [
        {
          "output_type": "execute_result",
          "data": {
            "text/plain": [
              "       Training Time  Training Loss  Validation Time  Validation Loss\n",
              "Epoch                                                                \n",
              "1             39.959          0.567            1.443            0.489\n",
              "2             37.766          0.421            1.439            0.440\n",
              "3             38.935          0.302            1.564            0.442"
            ],
            "text/html": [
              "\n",
              "  <div id=\"df-092fb9e7-5f81-449b-b43f-e9ade64502c2\" class=\"colab-df-container\">\n",
              "    <div>\n",
              "<style scoped>\n",
              "    .dataframe tbody tr th:only-of-type {\n",
              "        vertical-align: middle;\n",
              "    }\n",
              "\n",
              "    .dataframe tbody tr th {\n",
              "        vertical-align: top;\n",
              "    }\n",
              "\n",
              "    .dataframe thead th {\n",
              "        text-align: right;\n",
              "    }\n",
              "</style>\n",
              "<table border=\"1\" class=\"dataframe\">\n",
              "  <thead>\n",
              "    <tr style=\"text-align: right;\">\n",
              "      <th></th>\n",
              "      <th>Training Time</th>\n",
              "      <th>Training Loss</th>\n",
              "      <th>Validation Time</th>\n",
              "      <th>Validation Loss</th>\n",
              "    </tr>\n",
              "    <tr>\n",
              "      <th>Epoch</th>\n",
              "      <th></th>\n",
              "      <th></th>\n",
              "      <th></th>\n",
              "      <th></th>\n",
              "    </tr>\n",
              "  </thead>\n",
              "  <tbody>\n",
              "    <tr>\n",
              "      <th>1</th>\n",
              "      <td>39.959</td>\n",
              "      <td>0.567</td>\n",
              "      <td>1.443</td>\n",
              "      <td>0.489</td>\n",
              "    </tr>\n",
              "    <tr>\n",
              "      <th>2</th>\n",
              "      <td>37.766</td>\n",
              "      <td>0.421</td>\n",
              "      <td>1.439</td>\n",
              "      <td>0.440</td>\n",
              "    </tr>\n",
              "    <tr>\n",
              "      <th>3</th>\n",
              "      <td>38.935</td>\n",
              "      <td>0.302</td>\n",
              "      <td>1.564</td>\n",
              "      <td>0.442</td>\n",
              "    </tr>\n",
              "  </tbody>\n",
              "</table>\n",
              "</div>\n",
              "    <div class=\"colab-df-buttons\">\n",
              "\n",
              "  <div class=\"colab-df-container\">\n",
              "    <button class=\"colab-df-convert\" onclick=\"convertToInteractive('df-092fb9e7-5f81-449b-b43f-e9ade64502c2')\"\n",
              "            title=\"Convert this dataframe to an interactive table.\"\n",
              "            style=\"display:none;\">\n",
              "\n",
              "  <svg xmlns=\"http://www.w3.org/2000/svg\" height=\"24px\" viewBox=\"0 -960 960 960\">\n",
              "    <path d=\"M120-120v-720h720v720H120Zm60-500h600v-160H180v160Zm220 220h160v-160H400v160Zm0 220h160v-160H400v160ZM180-400h160v-160H180v160Zm440 0h160v-160H620v160ZM180-180h160v-160H180v160Zm440 0h160v-160H620v160Z\"/>\n",
              "  </svg>\n",
              "    </button>\n",
              "\n",
              "  <style>\n",
              "    .colab-df-container {\n",
              "      display:flex;\n",
              "      gap: 12px;\n",
              "    }\n",
              "\n",
              "    .colab-df-convert {\n",
              "      background-color: #E8F0FE;\n",
              "      border: none;\n",
              "      border-radius: 50%;\n",
              "      cursor: pointer;\n",
              "      display: none;\n",
              "      fill: #1967D2;\n",
              "      height: 32px;\n",
              "      padding: 0 0 0 0;\n",
              "      width: 32px;\n",
              "    }\n",
              "\n",
              "    .colab-df-convert:hover {\n",
              "      background-color: #E2EBFA;\n",
              "      box-shadow: 0px 1px 2px rgba(60, 64, 67, 0.3), 0px 1px 3px 1px rgba(60, 64, 67, 0.15);\n",
              "      fill: #174EA6;\n",
              "    }\n",
              "\n",
              "    .colab-df-buttons div {\n",
              "      margin-bottom: 4px;\n",
              "    }\n",
              "\n",
              "    [theme=dark] .colab-df-convert {\n",
              "      background-color: #3B4455;\n",
              "      fill: #D2E3FC;\n",
              "    }\n",
              "\n",
              "    [theme=dark] .colab-df-convert:hover {\n",
              "      background-color: #434B5C;\n",
              "      box-shadow: 0px 1px 3px 1px rgba(0, 0, 0, 0.15);\n",
              "      filter: drop-shadow(0px 1px 2px rgba(0, 0, 0, 0.3));\n",
              "      fill: #FFFFFF;\n",
              "    }\n",
              "  </style>\n",
              "\n",
              "    <script>\n",
              "      const buttonEl =\n",
              "        document.querySelector('#df-092fb9e7-5f81-449b-b43f-e9ade64502c2 button.colab-df-convert');\n",
              "      buttonEl.style.display =\n",
              "        google.colab.kernel.accessAllowed ? 'block' : 'none';\n",
              "\n",
              "      async function convertToInteractive(key) {\n",
              "        const element = document.querySelector('#df-092fb9e7-5f81-449b-b43f-e9ade64502c2');\n",
              "        const dataTable =\n",
              "          await google.colab.kernel.invokeFunction('convertToInteractive',\n",
              "                                                    [key], {});\n",
              "        if (!dataTable) return;\n",
              "\n",
              "        const docLinkHtml = 'Like what you see? Visit the ' +\n",
              "          '<a target=\"_blank\" href=https://colab.research.google.com/notebooks/data_table.ipynb>data table notebook</a>'\n",
              "          + ' to learn more about interactive tables.';\n",
              "        element.innerHTML = '';\n",
              "        dataTable['output_type'] = 'display_data';\n",
              "        await google.colab.output.renderOutput(dataTable, element);\n",
              "        const docLink = document.createElement('div');\n",
              "        docLink.innerHTML = docLinkHtml;\n",
              "        element.appendChild(docLink);\n",
              "      }\n",
              "    </script>\n",
              "  </div>\n",
              "\n",
              "\n",
              "<div id=\"df-5005f664-f2a7-4ae1-937f-d5eed95dee8d\">\n",
              "  <button class=\"colab-df-quickchart\" onclick=\"quickchart('df-5005f664-f2a7-4ae1-937f-d5eed95dee8d')\"\n",
              "            title=\"Suggest charts\"\n",
              "            style=\"display:none;\">\n",
              "\n",
              "<svg xmlns=\"http://www.w3.org/2000/svg\" height=\"24px\"viewBox=\"0 0 24 24\"\n",
              "     width=\"24px\">\n",
              "    <g>\n",
              "        <path d=\"M19 3H5c-1.1 0-2 .9-2 2v14c0 1.1.9 2 2 2h14c1.1 0 2-.9 2-2V5c0-1.1-.9-2-2-2zM9 17H7v-7h2v7zm4 0h-2V7h2v10zm4 0h-2v-4h2v4z\"/>\n",
              "    </g>\n",
              "</svg>\n",
              "  </button>\n",
              "\n",
              "<style>\n",
              "  .colab-df-quickchart {\n",
              "      --bg-color: #E8F0FE;\n",
              "      --fill-color: #1967D2;\n",
              "      --hover-bg-color: #E2EBFA;\n",
              "      --hover-fill-color: #174EA6;\n",
              "      --disabled-fill-color: #AAA;\n",
              "      --disabled-bg-color: #DDD;\n",
              "  }\n",
              "\n",
              "  [theme=dark] .colab-df-quickchart {\n",
              "      --bg-color: #3B4455;\n",
              "      --fill-color: #D2E3FC;\n",
              "      --hover-bg-color: #434B5C;\n",
              "      --hover-fill-color: #FFFFFF;\n",
              "      --disabled-bg-color: #3B4455;\n",
              "      --disabled-fill-color: #666;\n",
              "  }\n",
              "\n",
              "  .colab-df-quickchart {\n",
              "    background-color: var(--bg-color);\n",
              "    border: none;\n",
              "    border-radius: 50%;\n",
              "    cursor: pointer;\n",
              "    display: none;\n",
              "    fill: var(--fill-color);\n",
              "    height: 32px;\n",
              "    padding: 0;\n",
              "    width: 32px;\n",
              "  }\n",
              "\n",
              "  .colab-df-quickchart:hover {\n",
              "    background-color: var(--hover-bg-color);\n",
              "    box-shadow: 0 1px 2px rgba(60, 64, 67, 0.3), 0 1px 3px 1px rgba(60, 64, 67, 0.15);\n",
              "    fill: var(--button-hover-fill-color);\n",
              "  }\n",
              "\n",
              "  .colab-df-quickchart-complete:disabled,\n",
              "  .colab-df-quickchart-complete:disabled:hover {\n",
              "    background-color: var(--disabled-bg-color);\n",
              "    fill: var(--disabled-fill-color);\n",
              "    box-shadow: none;\n",
              "  }\n",
              "\n",
              "  .colab-df-spinner {\n",
              "    border: 2px solid var(--fill-color);\n",
              "    border-color: transparent;\n",
              "    border-bottom-color: var(--fill-color);\n",
              "    animation:\n",
              "      spin 1s steps(1) infinite;\n",
              "  }\n",
              "\n",
              "  @keyframes spin {\n",
              "    0% {\n",
              "      border-color: transparent;\n",
              "      border-bottom-color: var(--fill-color);\n",
              "      border-left-color: var(--fill-color);\n",
              "    }\n",
              "    20% {\n",
              "      border-color: transparent;\n",
              "      border-left-color: var(--fill-color);\n",
              "      border-top-color: var(--fill-color);\n",
              "    }\n",
              "    30% {\n",
              "      border-color: transparent;\n",
              "      border-left-color: var(--fill-color);\n",
              "      border-top-color: var(--fill-color);\n",
              "      border-right-color: var(--fill-color);\n",
              "    }\n",
              "    40% {\n",
              "      border-color: transparent;\n",
              "      border-right-color: var(--fill-color);\n",
              "      border-top-color: var(--fill-color);\n",
              "    }\n",
              "    60% {\n",
              "      border-color: transparent;\n",
              "      border-right-color: var(--fill-color);\n",
              "    }\n",
              "    80% {\n",
              "      border-color: transparent;\n",
              "      border-right-color: var(--fill-color);\n",
              "      border-bottom-color: var(--fill-color);\n",
              "    }\n",
              "    90% {\n",
              "      border-color: transparent;\n",
              "      border-bottom-color: var(--fill-color);\n",
              "    }\n",
              "  }\n",
              "</style>\n",
              "\n",
              "  <script>\n",
              "    async function quickchart(key) {\n",
              "      const quickchartButtonEl =\n",
              "        document.querySelector('#' + key + ' button');\n",
              "      quickchartButtonEl.disabled = true;  // To prevent multiple clicks.\n",
              "      quickchartButtonEl.classList.add('colab-df-spinner');\n",
              "      try {\n",
              "        const charts = await google.colab.kernel.invokeFunction(\n",
              "            'suggestCharts', [key], {});\n",
              "      } catch (error) {\n",
              "        console.error('Error during call to suggestCharts:', error);\n",
              "      }\n",
              "      quickchartButtonEl.classList.remove('colab-df-spinner');\n",
              "      quickchartButtonEl.classList.add('colab-df-quickchart-complete');\n",
              "    }\n",
              "    (() => {\n",
              "      let quickchartButtonEl =\n",
              "        document.querySelector('#df-5005f664-f2a7-4ae1-937f-d5eed95dee8d button');\n",
              "      quickchartButtonEl.style.display =\n",
              "        google.colab.kernel.accessAllowed ? 'block' : 'none';\n",
              "    })();\n",
              "  </script>\n",
              "</div>\n",
              "\n",
              "  <div id=\"id_04745fb5-fecc-4ec7-8a56-5c9a04c7f460\">\n",
              "    <style>\n",
              "      .colab-df-generate {\n",
              "        background-color: #E8F0FE;\n",
              "        border: none;\n",
              "        border-radius: 50%;\n",
              "        cursor: pointer;\n",
              "        display: none;\n",
              "        fill: #1967D2;\n",
              "        height: 32px;\n",
              "        padding: 0 0 0 0;\n",
              "        width: 32px;\n",
              "      }\n",
              "\n",
              "      .colab-df-generate:hover {\n",
              "        background-color: #E2EBFA;\n",
              "        box-shadow: 0px 1px 2px rgba(60, 64, 67, 0.3), 0px 1px 3px 1px rgba(60, 64, 67, 0.15);\n",
              "        fill: #174EA6;\n",
              "      }\n",
              "\n",
              "      [theme=dark] .colab-df-generate {\n",
              "        background-color: #3B4455;\n",
              "        fill: #D2E3FC;\n",
              "      }\n",
              "\n",
              "      [theme=dark] .colab-df-generate:hover {\n",
              "        background-color: #434B5C;\n",
              "        box-shadow: 0px 1px 3px 1px rgba(0, 0, 0, 0.15);\n",
              "        filter: drop-shadow(0px 1px 2px rgba(0, 0, 0, 0.3));\n",
              "        fill: #FFFFFF;\n",
              "      }\n",
              "    </style>\n",
              "    <button class=\"colab-df-generate\" onclick=\"generateWithVariable('stats_df')\"\n",
              "            title=\"Generate code using this dataframe.\"\n",
              "            style=\"display:none;\">\n",
              "\n",
              "  <svg xmlns=\"http://www.w3.org/2000/svg\" height=\"24px\"viewBox=\"0 0 24 24\"\n",
              "       width=\"24px\">\n",
              "    <path d=\"M7,19H8.4L18.45,9,17,7.55,7,17.6ZM5,21V16.75L18.45,3.32a2,2,0,0,1,2.83,0l1.4,1.43a1.91,1.91,0,0,1,.58,1.4,1.91,1.91,0,0,1-.58,1.4L9.25,21ZM18.45,9,17,7.55Zm-12,3A5.31,5.31,0,0,0,4.9,8.1,5.31,5.31,0,0,0,1,6.5,5.31,5.31,0,0,0,4.9,4.9,5.31,5.31,0,0,0,6.5,1,5.31,5.31,0,0,0,8.1,4.9,5.31,5.31,0,0,0,12,6.5,5.46,5.46,0,0,0,6.5,12Z\"/>\n",
              "  </svg>\n",
              "    </button>\n",
              "    <script>\n",
              "      (() => {\n",
              "      const buttonEl =\n",
              "        document.querySelector('#id_04745fb5-fecc-4ec7-8a56-5c9a04c7f460 button.colab-df-generate');\n",
              "      buttonEl.style.display =\n",
              "        google.colab.kernel.accessAllowed ? 'block' : 'none';\n",
              "\n",
              "      buttonEl.onclick = () => {\n",
              "        google.colab.notebook.generateWithVariable('stats_df');\n",
              "      }\n",
              "      })();\n",
              "    </script>\n",
              "  </div>\n",
              "\n",
              "    </div>\n",
              "  </div>\n"
            ],
            "application/vnd.google.colaboratory.intrinsic+json": {
              "type": "dataframe",
              "variable_name": "stats_df",
              "summary": "{\n  \"name\": \"stats_df\",\n  \"rows\": 3,\n  \"fields\": [\n    {\n      \"column\": \"Epoch\",\n      \"properties\": {\n        \"dtype\": \"number\",\n        \"std\": 1,\n        \"min\": 1,\n        \"max\": 3,\n        \"num_unique_values\": 3,\n        \"samples\": [\n          1,\n          2,\n          3\n        ],\n        \"semantic_type\": \"\",\n        \"description\": \"\"\n      }\n    },\n    {\n      \"column\": \"Training Time\",\n      \"properties\": {\n        \"dtype\": \"number\",\n        \"std\": 1.0975050939732334,\n        \"min\": 37.76555943489075,\n        \"max\": 39.95895290374756,\n        \"num_unique_values\": 3,\n        \"samples\": [\n          39.95895290374756,\n          37.76555943489075,\n          38.93520212173462\n        ],\n        \"semantic_type\": \"\",\n        \"description\": \"\"\n      }\n    },\n    {\n      \"column\": \"Training Loss\",\n      \"properties\": {\n        \"dtype\": \"number\",\n        \"std\": 0.13258023249654993,\n        \"min\": 0.30186157803172653,\n        \"max\": 0.5665656418904014,\n        \"num_unique_values\": 3,\n        \"samples\": [\n          0.5665656418904014,\n          0.4207461276780004,\n          0.30186157803172653\n        ],\n        \"semantic_type\": \"\",\n        \"description\": \"\"\n      }\n    },\n    {\n      \"column\": \"Validation Time\",\n      \"properties\": {\n        \"dtype\": \"number\",\n        \"std\": 0.07088153068973521,\n        \"min\": 1.4389259815216064,\n        \"max\": 1.5636284351348877,\n        \"num_unique_values\": 3,\n        \"samples\": [\n          1.4428858757019043,\n          1.4389259815216064,\n          1.5636284351348877\n        ],\n        \"semantic_type\": \"\",\n        \"description\": \"\"\n      }\n    },\n    {\n      \"column\": \"Validation Loss\",\n      \"properties\": {\n        \"dtype\": \"number\",\n        \"std\": 0.027362105858662673,\n        \"min\": 0.44023619477565473,\n        \"max\": 0.48868521589499253,\n        \"num_unique_values\": 3,\n        \"samples\": [\n          0.48868521589499253,\n          0.44023619477565473,\n          0.44242496673877424\n        ],\n        \"semantic_type\": \"\",\n        \"description\": \"\"\n      }\n    }\n  ]\n}"
            }
          },
          "metadata": {},
          "execution_count": 53
        }
      ]
    },
    {
      "cell_type": "code",
      "source": [
        "# Use plot styling from seaborn.\n",
        "sns.set(style='darkgrid')\n",
        "\n",
        "# Increase the plot size and font size.\n",
        "sns.set(font_scale=1.5)\n",
        "plt.rcParams[\"figure.figsize\"] = (12,6)\n",
        "\n",
        "# Plot the learning curve.\n",
        "plt.plot(stats_df['Training Loss'], 'r-o', label=\"Training\")\n",
        "plt.plot(stats_df['Validation Loss'], 'b-o', label=\"Validation\")\n",
        "\n",
        "# Label the plot.\n",
        "plt.title(\"Training & Validation Loss\")\n",
        "plt.xlabel(\"Epoch\")\n",
        "plt.ylabel(\"Loss\")\n",
        "plt.legend()\n",
        "plt.xticks([1, 2, 3, 4])\n",
        "\n",
        "plt.show()"
      ],
      "metadata": {
        "id": "3QQa1AQhdlPt",
        "colab": {
          "base_uri": "https://localhost:8080/",
          "height": 592
        },
        "outputId": "578c5d48-bc57-46d3-d542-46d27a59be34"
      },
      "execution_count": null,
      "outputs": [
        {
          "output_type": "display_data",
          "data": {
            "text/plain": [
              "<Figure size 1200x600 with 1 Axes>"
            ],
            "image/png": "[encoded data removed]"
          },
          "metadata": {}
        }
      ]
    },
    {
      "cell_type": "markdown",
      "source": [
        "Model Testing"
      ],
      "metadata": {
        "id": "4ar6ypZ_Fyaz"
      }
    },
    {
      "cell_type": "code",
      "source": [
        "test_loader = preprocess_text(test_dataset, tokenizer, batch_size)"
      ],
      "metadata": {
        "id": "F717d-a8F2m_"
      },
      "execution_count": null,
      "outputs": []
    },
    {
      "cell_type": "code",
      "source": [
        "pred_test_labels, true_test_labels, epoch_val_loss = model_eval_epoch(model, test_loader)\n",
        "\n",
        "print(len(true_test_labels))"
      ],
      "metadata": {
        "colab": {
          "base_uri": "https://localhost:8080/"
        },
        "id": "8qo9c6Q-Ggrk",
        "outputId": "ed17f650-1eb5-4e50-8258-a8efddb474e4"
      },
      "execution_count": null,
      "outputs": [
        {
          "output_type": "stream",
          "name": "stdout",
          "text": [
            "54\n"
          ]
        }
      ]
    },
    {
      "cell_type": "code",
      "source": [
        "# Calculate batchwise accuracy and F1 scores\n",
        "acc_batch = []\n",
        "f1_batch = []\n",
        "for p_batch, t_batch in zip(pred_test_labels, true_test_labels):\n",
        "  # Get labels of batch\n",
        "  pred_labels =  np.argmax(p_batch, axis=1).flatten()\n",
        "\n",
        "  # Calculate accuracy for the batch\n",
        "  acc = smetrics.accuracy_score(t_batch, pred_labels)\n",
        "  # Append accuracy score to list\n",
        "  acc_batch.append(acc)\n",
        "\n",
        "  # Calculate accuracy for the batch\n",
        "  f1 = smetrics.f1_score(t_batch, pred_labels)\n",
        "  # Append accuracy score to list\n",
        "  f1_batch.append(f1)"
      ],
      "metadata": {
        "id": "PeUnES5NGwqO"
      },
      "execution_count": null,
      "outputs": []
    },
    {
      "cell_type": "code",
      "source": [
        "# Plot accuracy vs batch\n",
        "ax = sns.lineplot(x=list(range(len(acc_batch))), y=acc_batch, errorbar=None)\n",
        "\n",
        "plt.title('Accuracy Score per Batch')\n",
        "plt.ylabel('Accuracy Score')\n",
        "plt.xlabel('Batch #')\n",
        "\n",
        "plt.show()"
      ],
      "metadata": {
        "colab": {
          "base_uri": "https://localhost:8080/",
          "height": 592
        },
        "id": "_ATsYKFEG6Ci",
        "outputId": "31a9df90-aff5-4ef2-9cc1-e24d9a806cc8"
      },
      "execution_count": null,
      "outputs": [
        {
          "output_type": "display_data",
          "data": {
            "text/plain": [
              "<Figure size 1200x600 with 1 Axes>"
            ],
            "image/png": "[encoded data removed]"
          },
          "metadata": {}
        }
      ]
    },
    {
      "cell_type": "code",
      "source": [
        "# Plot accuracy vs batch\n",
        "ax = sns.lineplot(x=list(range(len(f1_batch))), y=f1_batch, errorbar=None)\n",
        "\n",
        "plt.title('F1 Score per Batch')\n",
        "plt.ylabel('F1 Score')\n",
        "plt.xlabel('Batch #')\n",
        "\n",
        "plt.show()"
      ],
      "metadata": {
        "colab": {
          "base_uri": "https://localhost:8080/",
          "height": 592
        },
        "id": "o1cMF8OjH3zW",
        "outputId": "0f376125-2ae1-4950-867f-d263ed015676"
      },
      "execution_count": null,
      "outputs": [
        {
          "output_type": "display_data",
          "data": {
            "text/plain": [
              "<Figure size 1200x600 with 1 Axes>"
            ],
            "image/png": "[encoded data removed]"
          },
          "metadata": {}
        }
      ]
    },
    {
      "cell_type": "code",
      "source": [
        "# Concatenate prediction across all batches\n",
        "flat_pred_labels = np.concatenate(pred_test_labels, axis=0)\n",
        "\n",
        "# Get labels\n",
        "flat_pred_labels = np.argmax(flat_pred_labels, axis=1).flatten()\n",
        "\n",
        "# Concatenate true labels across all batches\n",
        "flat_true_labels = np.concatenate(true_test_labels, axis=0)"
      ],
      "metadata": {
        "id": "P5z1mQeMG7v1"
      },
      "execution_count": null,
      "outputs": []
    },
    {
      "cell_type": "code",
      "source": [
        "# Get accuracy\n",
        "acc = smetrics.accuracy_score(flat_true_labels, flat_pred_labels)\n",
        "\n",
        "print('Accuracy: %.3f' % acc)"
      ],
      "metadata": {
        "colab": {
          "base_uri": "https://localhost:8080/"
        },
        "id": "nBRDJgiIIATZ",
        "outputId": "383250b4-6291-40ca-fa73-4bad575153b3"
      },
      "execution_count": null,
      "outputs": [
        {
          "output_type": "stream",
          "name": "stdout",
          "text": [
            "Accuracy: 0.780\n"
          ]
        }
      ]
    },
    {
      "cell_type": "code",
      "source": [
        "# Get F1 score\n",
        "acc = smetrics.f1_score(flat_true_labels, flat_pred_labels)\n",
        "\n",
        "print('F1 score: %.3f' % acc)"
      ],
      "metadata": {
        "colab": {
          "base_uri": "https://localhost:8080/"
        },
        "id": "PihuzoRrG-Qf",
        "outputId": "36b78405-404e-46b0-be54-cb7d08ae967c"
      },
      "execution_count": null,
      "outputs": [
        {
          "output_type": "stream",
          "name": "stdout",
          "text": [
            "F1 score: 0.836\n"
          ]
        }
      ]
    },
    {
      "cell_type": "markdown",
      "source": [
        "Save model"
      ],
      "metadata": {
        "id": "gYDCGztcjC0O"
      }
    },
    {
      "cell_type": "code",
      "source": [
        "# Directory to save model files\n",
        "output_dir = './model/'\n",
        "\n",
        "# Create directory if it doesn't exist\n",
        "if not os.path.exists(output_dir):\n",
        "  os.makedirs(output_dir)\n",
        "\n",
        "print(\"Saving model...\")\n",
        "\n",
        "# Save model config and tokenizer\n",
        "model_save = model.module if hasattr(model, 'module') else model\n",
        "model_save.save_pretrained(output_dir)\n",
        "tokenizer.save_pretrained(output_dir)"
      ],
      "metadata": {
        "colab": {
          "base_uri": "https://localhost:8080/"
        },
        "id": "Gb5y6MBSjB9e",
        "outputId": "e1e8e8a6-e64c-4ce6-d79c-d189b234f27e"
      },
      "execution_count": null,
      "outputs": [
        {
          "output_type": "stream",
          "name": "stdout",
          "text": [
            "Saving model...\n"
          ]
        },
        {
          "output_type": "execute_result",
          "data": {
            "text/plain": [
              "('./model/tokenizer_config.json',\n",
              " './model/special_tokens_map.json',\n",
              " './model/vocab.txt',\n",
              " './model/added_tokens.json')"
            ]
          },
          "metadata": {},
          "execution_count": 63
        }
      ]
    },
    {
      "cell_type": "markdown",
      "source": [
        "Load model"
      ],
      "metadata": {
        "id": "0NZ8l6Wekzqb"
      }
    },
    {
      "cell_type": "code",
      "source": [
        "'''\n",
        "# Load a trained model and vocabulary that you have fine-tuned\n",
        "model = BertForSequenceClassification.from_pretrained(output_dir)\n",
        "tokenizer = BertTokenizer.from_pretrained(output_dir)\n",
        "\n",
        "# Copy the model to the GPU.\n",
        "model.to(device)\n",
        "'''"
      ],
      "metadata": {
        "id": "YinTbb8ik1G9"
      },
      "execution_count": null,
      "outputs": []
    }
  ]
}